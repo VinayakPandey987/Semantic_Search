{
 "cells": [
  {
   "cell_type": "code",
   "execution_count": 13,
   "id": "9e31bec1",
   "metadata": {},
   "outputs": [
    {
     "name": "stdout",
     "output_type": "stream",
     "text": [
      "Requirement already satisfied: datasets in c:\\users\\vinay\\anaconda3\\lib\\site-packages (2.14.3)\n",
      "Requirement already satisfied: fsspec[http]>=2021.11.1 in c:\\users\\vinay\\anaconda3\\lib\\site-packages (from datasets) (2022.11.0)\n",
      "Requirement already satisfied: requests>=2.19.0 in c:\\users\\vinay\\anaconda3\\lib\\site-packages (from datasets) (2.28.1)\n",
      "Requirement already satisfied: pandas in c:\\users\\vinay\\anaconda3\\lib\\site-packages (from datasets) (1.5.3)\n",
      "Requirement already satisfied: xxhash in c:\\users\\vinay\\anaconda3\\lib\\site-packages (from datasets) (3.3.0)\n",
      "Requirement already satisfied: aiohttp in c:\\users\\vinay\\anaconda3\\lib\\site-packages (from datasets) (3.8.5)\n",
      "Requirement already satisfied: pyyaml>=5.1 in c:\\users\\vinay\\anaconda3\\lib\\site-packages (from datasets) (6.0)\n",
      "Requirement already satisfied: tqdm>=4.62.1 in c:\\users\\vinay\\anaconda3\\lib\\site-packages (from datasets) (4.64.1)\n",
      "Requirement already satisfied: packaging in c:\\users\\vinay\\anaconda3\\lib\\site-packages (from datasets) (22.0)\n",
      "Requirement already satisfied: multiprocess in c:\\users\\vinay\\anaconda3\\lib\\site-packages (from datasets) (0.70.15)\n",
      "Requirement already satisfied: dill<0.3.8,>=0.3.0 in c:\\users\\vinay\\anaconda3\\lib\\site-packages (from datasets) (0.3.7)\n",
      "Requirement already satisfied: pyarrow>=8.0.0 in c:\\users\\vinay\\anaconda3\\lib\\site-packages (from datasets) (12.0.1)\n",
      "Requirement already satisfied: numpy>=1.17 in c:\\users\\vinay\\anaconda3\\lib\\site-packages (from datasets) (1.23.5)\n",
      "Requirement already satisfied: huggingface-hub<1.0.0,>=0.14.0 in c:\\users\\vinay\\anaconda3\\lib\\site-packages (from datasets) (0.16.4)\n",
      "Requirement already satisfied: charset-normalizer<4.0,>=2.0 in c:\\users\\vinay\\anaconda3\\lib\\site-packages (from aiohttp->datasets) (2.0.4)\n",
      "Requirement already satisfied: async-timeout<5.0,>=4.0.0a3 in c:\\users\\vinay\\anaconda3\\lib\\site-packages (from aiohttp->datasets) (4.0.2)\n",
      "Requirement already satisfied: frozenlist>=1.1.1 in c:\\users\\vinay\\anaconda3\\lib\\site-packages (from aiohttp->datasets) (1.4.0)\n",
      "Requirement already satisfied: aiosignal>=1.1.2 in c:\\users\\vinay\\anaconda3\\lib\\site-packages (from aiohttp->datasets) (1.3.1)\n",
      "Requirement already satisfied: attrs>=17.3.0 in c:\\users\\vinay\\anaconda3\\lib\\site-packages (from aiohttp->datasets) (22.1.0)\n",
      "Requirement already satisfied: multidict<7.0,>=4.5 in c:\\users\\vinay\\anaconda3\\lib\\site-packages (from aiohttp->datasets) (6.0.4)\n",
      "Requirement already satisfied: yarl<2.0,>=1.0 in c:\\users\\vinay\\anaconda3\\lib\\site-packages (from aiohttp->datasets) (1.9.2)\n",
      "Requirement already satisfied: typing-extensions>=3.7.4.3 in c:\\users\\vinay\\anaconda3\\lib\\site-packages (from huggingface-hub<1.0.0,>=0.14.0->datasets) (4.7.1)\n",
      "Requirement already satisfied: filelock in c:\\users\\vinay\\anaconda3\\lib\\site-packages (from huggingface-hub<1.0.0,>=0.14.0->datasets) (3.9.0)\n",
      "Requirement already satisfied: urllib3<1.27,>=1.21.1 in c:\\users\\vinay\\anaconda3\\lib\\site-packages (from requests>=2.19.0->datasets) (1.26.14)\n",
      "Requirement already satisfied: idna<4,>=2.5 in c:\\users\\vinay\\anaconda3\\lib\\site-packages (from requests>=2.19.0->datasets) (3.4)\n",
      "Requirement already satisfied: certifi>=2017.4.17 in c:\\users\\vinay\\anaconda3\\lib\\site-packages (from requests>=2.19.0->datasets) (2023.5.7)\n",
      "Requirement already satisfied: colorama in c:\\users\\vinay\\anaconda3\\lib\\site-packages (from tqdm>=4.62.1->datasets) (0.4.6)\n",
      "Requirement already satisfied: pytz>=2020.1 in c:\\users\\vinay\\anaconda3\\lib\\site-packages (from pandas->datasets) (2022.7)\n",
      "Requirement already satisfied: python-dateutil>=2.8.1 in c:\\users\\vinay\\anaconda3\\lib\\site-packages (from pandas->datasets) (2.8.2)\n",
      "Requirement already satisfied: six>=1.5 in c:\\users\\vinay\\anaconda3\\lib\\site-packages (from python-dateutil>=2.8.1->pandas->datasets) (1.16.0)\n"
     ]
    }
   ],
   "source": [
    "!pip install datasets\n",
    "from datasets import load_dataset\n",
    "dataset = load_dataset(\"ag_news\")"
   ]
  },
  {
   "cell_type": "code",
   "execution_count": 14,
   "id": "db9aec66",
   "metadata": {},
   "outputs": [],
   "source": [
    "df=dataset[\"test\"].to_pandas()"
   ]
  },
  {
   "cell_type": "code",
   "execution_count": 3,
   "id": "997b3ac0",
   "metadata": {},
   "outputs": [
    {
     "data": {
      "text/html": [
       "<div>\n",
       "<style scoped>\n",
       "    .dataframe tbody tr th:only-of-type {\n",
       "        vertical-align: middle;\n",
       "    }\n",
       "\n",
       "    .dataframe tbody tr th {\n",
       "        vertical-align: top;\n",
       "    }\n",
       "\n",
       "    .dataframe thead th {\n",
       "        text-align: right;\n",
       "    }\n",
       "</style>\n",
       "<table border=\"1\" class=\"dataframe\">\n",
       "  <thead>\n",
       "    <tr style=\"text-align: right;\">\n",
       "      <th></th>\n",
       "      <th>text</th>\n",
       "      <th>label</th>\n",
       "    </tr>\n",
       "  </thead>\n",
       "  <tbody>\n",
       "    <tr>\n",
       "      <th>0</th>\n",
       "      <td>Fears for T N pension after talks Unions repre...</td>\n",
       "      <td>2</td>\n",
       "    </tr>\n",
       "    <tr>\n",
       "      <th>1</th>\n",
       "      <td>The Race is On: Second Private Team Sets Launc...</td>\n",
       "      <td>3</td>\n",
       "    </tr>\n",
       "    <tr>\n",
       "      <th>2</th>\n",
       "      <td>Ky. Company Wins Grant to Study Peptides (AP) ...</td>\n",
       "      <td>3</td>\n",
       "    </tr>\n",
       "    <tr>\n",
       "      <th>3</th>\n",
       "      <td>Prediction Unit Helps Forecast Wildfires (AP) ...</td>\n",
       "      <td>3</td>\n",
       "    </tr>\n",
       "    <tr>\n",
       "      <th>4</th>\n",
       "      <td>Calif. Aims to Limit Farm-Related Smog (AP) AP...</td>\n",
       "      <td>3</td>\n",
       "    </tr>\n",
       "  </tbody>\n",
       "</table>\n",
       "</div>"
      ],
      "text/plain": [
       "                                                text  label\n",
       "0  Fears for T N pension after talks Unions repre...      2\n",
       "1  The Race is On: Second Private Team Sets Launc...      3\n",
       "2  Ky. Company Wins Grant to Study Peptides (AP) ...      3\n",
       "3  Prediction Unit Helps Forecast Wildfires (AP) ...      3\n",
       "4  Calif. Aims to Limit Farm-Related Smog (AP) AP...      3"
      ]
     },
     "execution_count": 3,
     "metadata": {},
     "output_type": "execute_result"
    }
   ],
   "source": [
    "df.head()"
   ]
  },
  {
   "cell_type": "markdown",
   "id": "0fa34cf9",
   "metadata": {},
   "source": [
    "#### Save the HF data"
   ]
  },
  {
   "cell_type": "markdown",
   "id": "5f51b065",
   "metadata": {},
   "source": [
    "### Encoding the Data/Source/Dataset"
   ]
  },
  {
   "cell_type": "code",
   "execution_count": 4,
   "id": "d10335db",
   "metadata": {},
   "outputs": [],
   "source": [
    "from sentence_transformers import SentenceTransformer, util\n",
    "import torch"
   ]
  },
  {
   "cell_type": "code",
   "execution_count": 5,
   "id": "c0d238ba",
   "metadata": {},
   "outputs": [],
   "source": [
    "model = SentenceTransformer('all-mpnet-base-v2')"
   ]
  },
  {
   "cell_type": "code",
   "execution_count": 6,
   "id": "caa5cab1",
   "metadata": {},
   "outputs": [],
   "source": [
    "# generating embedding for data text\n",
    "\n",
    "embeddings = model.encode(df.text)"
   ]
  },
  {
   "cell_type": "code",
   "execution_count": 7,
   "id": "3d6ca444",
   "metadata": {},
   "outputs": [
    {
     "data": {
      "text/plain": [
       "(7600, 768)"
      ]
     },
     "execution_count": 7,
     "metadata": {},
     "output_type": "execute_result"
    }
   ],
   "source": [
    "embeddings.shape"
   ]
  },
  {
   "cell_type": "code",
   "execution_count": 8,
   "id": "b75d2a8b",
   "metadata": {},
   "outputs": [],
   "source": [
    "query = \"politics\""
   ]
  },
  {
   "cell_type": "code",
   "execution_count": 9,
   "id": "0b8cbab1",
   "metadata": {},
   "outputs": [],
   "source": [
    "# generating embedding for query\n",
    "\n",
    "query_embedding = model.encode(query)"
   ]
  },
  {
   "cell_type": "code",
   "execution_count": 10,
   "id": "113c333c",
   "metadata": {},
   "outputs": [
    {
     "data": {
      "text/plain": [
       "array([ 5.40112890e-03,  5.76432385e-02,  2.21264269e-02,  2.92508826e-02,\n",
       "       -4.22253236e-02, -2.10408531e-02, -1.52196980e-03,  5.68779418e-03,\n",
       "        1.38640339e-02,  2.05477141e-02,  9.79827717e-02, -3.16201784e-02,\n",
       "        1.56656392e-02,  1.14385188e-02, -3.84623441e-03, -8.47635418e-02,\n",
       "        2.24531461e-02, -7.27162324e-03, -1.51916323e-02, -2.77517121e-02,\n",
       "       -4.07779887e-02,  7.57909194e-03,  4.42038253e-02, -1.80366039e-02,\n",
       "       -6.98068086e-03, -2.01772097e-02,  2.63796691e-02,  5.83967147e-03,\n",
       "        9.79827996e-03,  5.46216294e-02,  5.89812547e-03, -4.51951064e-02,\n",
       "        1.91155691e-02, -5.54094948e-02,  1.94614245e-06, -3.64212282e-02,\n",
       "       -5.60619356e-03,  1.61129609e-02,  8.59719701e-03, -5.50685711e-02,\n",
       "        3.79197672e-02,  2.03215815e-02, -6.07580394e-02,  3.97198461e-02,\n",
       "        2.21472071e-03,  1.31561039e-02,  4.68863435e-02,  2.55924109e-02,\n",
       "        1.05111338e-02,  1.94689743e-02,  1.71804894e-02,  5.27792312e-02,\n",
       "       -7.68331736e-02, -3.82738784e-02, -4.80962321e-02, -6.97353706e-02,\n",
       "        5.44651300e-02, -5.08745164e-02, -3.33596542e-02,  8.05400126e-03,\n",
       "        8.74371082e-03, -2.13572625e-02, -3.66706923e-02, -1.29952459e-02,\n",
       "       -9.22471210e-02,  5.55030210e-03,  8.17397535e-02,  2.18144245e-02,\n",
       "        7.63777420e-02,  7.64215481e-04, -3.38206403e-02,  2.33810470e-02,\n",
       "        1.41723063e-02,  8.68609473e-02, -2.33257320e-02,  1.52168088e-02,\n",
       "        1.16723357e-02,  5.82590848e-02,  9.38582793e-03,  5.01331128e-03,\n",
       "        6.39671832e-02, -3.76810174e-04,  1.40485130e-02,  8.57196152e-02,\n",
       "        4.01291251e-02,  3.83034423e-02, -1.08421417e-02,  1.38105555e-02,\n",
       "       -2.43460201e-02, -1.87012777e-02,  6.65543973e-02, -4.16000523e-02,\n",
       "        4.58402447e-02,  3.67359072e-02,  3.49087939e-02, -1.30222423e-03,\n",
       "        1.74907837e-02,  1.27058804e-01,  1.03015797e-02, -5.94723076e-02,\n",
       "       -8.08308497e-02,  2.24104747e-02,  5.12055075e-03,  7.29152709e-02,\n",
       "        8.39410797e-02,  1.49778379e-02,  8.24042037e-03, -8.73557199e-03,\n",
       "       -5.51493722e-04,  5.30248508e-03,  2.71150470e-02,  7.74443224e-02,\n",
       "       -9.77714825e-03, -2.59924810e-02, -4.69377637e-02, -1.25949550e-02,\n",
       "       -4.62263636e-03,  1.95026807e-02, -5.10325693e-02,  1.59283727e-02,\n",
       "       -3.68965045e-02, -1.56714916e-02,  5.39625064e-03,  2.26667104e-03,\n",
       "        9.16543696e-03,  3.57032195e-02, -6.13379553e-02,  8.03769566e-03,\n",
       "        2.39663478e-02,  6.55807108e-02, -2.82326993e-02,  7.05485581e-04,\n",
       "       -2.33556773e-03, -9.18370578e-03,  1.92648694e-02,  4.51869629e-02,\n",
       "        1.59134362e-02,  6.86109364e-02,  5.88588323e-03, -5.09863496e-02,\n",
       "       -5.84334657e-02, -4.75549325e-02, -4.48845662e-02, -1.39727928e-02,\n",
       "       -1.81474071e-02, -5.15907668e-02,  5.75252771e-02, -4.91269212e-03,\n",
       "        2.00324878e-02, -4.91133034e-02, -1.17676427e-05,  7.09624309e-03,\n",
       "        2.33468898e-02, -2.66924407e-03,  7.16727078e-02,  9.19818506e-02,\n",
       "       -1.67385023e-02,  1.37245189e-02, -2.65562721e-03, -7.02277431e-03,\n",
       "        3.21666449e-02,  4.27734852e-03,  4.63854074e-02, -1.40259285e-02,\n",
       "       -7.44457245e-02, -3.32503556e-03,  3.40466872e-02, -9.81410872e-03,\n",
       "       -5.04033640e-02, -3.07761934e-02,  7.43254414e-03, -3.17939483e-02,\n",
       "       -1.27341421e-02,  1.01334266e-02, -2.51789764e-03,  3.61193786e-03,\n",
       "       -4.09505032e-02, -1.05331279e-02, -8.97689015e-02,  3.96147817e-02,\n",
       "        1.57257225e-02, -8.89308974e-02, -1.69429313e-02,  1.92740895e-02,\n",
       "        1.60044237e-05,  1.70851983e-02,  1.76241957e-02,  5.44432551e-02,\n",
       "       -2.77147572e-02,  3.10258474e-02,  2.47685220e-02, -1.36628803e-02,\n",
       "       -2.04648208e-02,  4.03535843e-04,  8.66675563e-03, -3.01298853e-02,\n",
       "        1.19794700e-02,  1.04140807e-02,  6.60948921e-03,  4.38637473e-03,\n",
       "       -1.49538107e-02, -4.91063483e-02, -1.17130661e-02,  1.28956353e-02,\n",
       "        1.80986896e-03,  1.45083312e-02, -3.81219164e-02, -8.34089145e-03,\n",
       "       -8.65406077e-03,  1.26284175e-02, -1.00827152e-02,  3.96816665e-03,\n",
       "       -4.30859625e-02,  4.62365858e-02, -2.90057994e-02,  5.09474799e-03,\n",
       "        2.12777592e-02,  3.00876833e-02,  3.54784615e-02,  5.91794886e-02,\n",
       "       -2.35827342e-02,  1.43735893e-02,  2.84074750e-02, -2.58696079e-02,\n",
       "        6.49448037e-02, -1.73527598e-02,  7.39895273e-03, -8.24024621e-03,\n",
       "        3.33221033e-02, -4.23980765e-02, -3.63703445e-03,  1.63968261e-02,\n",
       "       -1.24007110e-02,  7.14098616e-03,  5.33064231e-02, -4.15286906e-02,\n",
       "        3.31414640e-02,  3.93698066e-02,  1.70387141e-02, -4.13813591e-02,\n",
       "        1.20941792e-02,  2.18096990e-02, -9.15247109e-03,  1.87099259e-02,\n",
       "        8.53153318e-02,  2.67263651e-02, -3.87778804e-02, -1.55637367e-02,\n",
       "       -2.91067306e-02,  1.18387525e-03, -7.03259632e-02, -3.30681466e-02,\n",
       "        2.54037045e-02, -1.18597038e-02,  7.37930415e-03,  2.08987724e-02,\n",
       "       -1.51943313e-02,  3.12178694e-02,  3.83823067e-02,  1.24406405e-02,\n",
       "        4.08917218e-02, -2.89439857e-02, -1.57105569e-02,  3.96148674e-03,\n",
       "       -2.52436344e-02, -3.80021557e-02, -2.47282758e-02,  3.99554372e-02,\n",
       "       -1.86502468e-02, -4.14719842e-02,  2.68205032e-02,  3.08266631e-03,\n",
       "       -8.99342261e-03,  2.34653950e-02,  2.14931779e-02, -3.75257581e-02,\n",
       "        1.89906009e-03, -6.40459731e-02, -3.13570574e-02, -1.85149834e-02,\n",
       "        5.46292029e-03, -1.12014683e-02, -2.70242263e-02,  5.77590764e-02,\n",
       "       -3.61989485e-03,  1.18211443e-02, -1.51597625e-02,  2.31104214e-02,\n",
       "       -9.89502110e-03, -1.53681710e-02, -5.82681373e-02, -2.11062841e-02,\n",
       "       -3.16940690e-03, -2.00027861e-02,  1.82286557e-02,  4.21198606e-02,\n",
       "        2.76565086e-02, -3.91958691e-02,  3.65536585e-02,  6.71149492e-02,\n",
       "        3.30803283e-02,  2.31005624e-02, -1.71202384e-02, -3.03833615e-02,\n",
       "       -4.81542870e-02,  1.58900991e-02,  1.08256051e-02, -6.86839409e-03,\n",
       "       -2.73769628e-02,  2.90479474e-02, -1.69001892e-02,  2.42835027e-03,\n",
       "        1.29523920e-02,  1.04618035e-01, -2.38937195e-02, -1.60498600e-02,\n",
       "       -3.69047858e-02,  4.25803009e-03,  7.02479109e-03,  6.65720105e-02,\n",
       "       -1.89949526e-04,  2.93138940e-02,  5.08050842e-04,  1.91253200e-02,\n",
       "        5.67269102e-02,  1.35860536e-02,  3.89993005e-02,  1.20373582e-02,\n",
       "        5.71212508e-02, -2.16324385e-02,  7.98401237e-03, -1.81749240e-02,\n",
       "       -3.57080204e-03, -3.61152329e-02, -7.17131793e-02,  6.35851100e-02,\n",
       "       -6.16143718e-02, -2.82361172e-03, -7.21872747e-02, -8.96852836e-03,\n",
       "       -2.75221374e-02, -2.34933663e-02, -4.72439453e-02, -8.00379962e-02,\n",
       "       -1.24997990e-02,  1.22070089e-02,  9.37157683e-03,  2.50056963e-02,\n",
       "       -6.01224601e-03, -1.09112803e-02,  2.83500832e-02, -4.12977533e-03,\n",
       "        1.34526268e-02, -4.95079579e-03, -1.84968188e-02,  9.82790720e-03,\n",
       "       -5.24186976e-02, -1.44225182e-02, -3.29304300e-02,  2.04911223e-03,\n",
       "       -8.01487342e-02,  1.45311831e-02,  2.25988515e-02,  2.94906367e-02,\n",
       "       -6.02824800e-03, -3.55526223e-03,  5.68770431e-02,  1.64451599e-02,\n",
       "        1.08940899e-03,  4.11783792e-02,  1.86684402e-03,  1.77365001e-02,\n",
       "       -6.97369082e-03,  1.73090883e-02,  1.25740767e-02,  3.48236114e-02,\n",
       "        1.21871224e-02,  8.67189467e-03, -3.25865746e-02, -3.77702806e-03,\n",
       "        3.40553150e-02, -7.48382136e-02,  4.46609817e-02,  3.68063301e-02,\n",
       "       -3.37199531e-02,  1.78935397e-02,  2.12871563e-02, -2.14921068e-02,\n",
       "       -3.93548086e-02,  5.81396697e-03,  3.87244709e-02,  1.48579655e-02,\n",
       "       -2.34790612e-02,  6.16842248e-02,  2.31961161e-02,  1.18663488e-02,\n",
       "       -1.62077695e-02,  2.78457394e-03,  2.91291811e-02, -3.86815853e-02,\n",
       "        3.19449324e-03, -1.26757883e-02,  6.78922795e-03,  6.48877546e-02,\n",
       "       -1.07177710e-02, -3.74623691e-03,  5.25776297e-02,  7.61250928e-02,\n",
       "        2.14258265e-02, -4.28911783e-02,  5.50758094e-02,  8.32706969e-03,\n",
       "       -1.95204243e-02,  2.47342102e-02,  1.12508629e-02, -8.17168280e-02,\n",
       "       -1.02616986e-02, -3.78607027e-02,  2.59135291e-02,  5.86729981e-02,\n",
       "       -1.92359872e-02, -6.47308603e-02, -2.94334930e-03, -1.24303475e-02,\n",
       "       -4.96678129e-02,  2.71709245e-02,  3.89195010e-02,  8.07526410e-02,\n",
       "        1.15348874e-02, -3.46912793e-03,  2.82179415e-02, -6.38930872e-03,\n",
       "       -4.34496552e-02,  3.19869444e-02, -3.10485950e-03, -1.02743674e-02,\n",
       "       -6.31537512e-02,  2.52599213e-02,  7.10408948e-03,  4.03600335e-02,\n",
       "        1.44808358e-02,  3.39032300e-02, -3.68053429e-02,  1.65540241e-02,\n",
       "        3.33573706e-02,  2.48678848e-02,  1.14160553e-02,  3.96201611e-02,\n",
       "       -1.51737090e-02,  1.50701134e-02,  3.04620471e-02,  7.73593560e-02,\n",
       "       -6.52948916e-02, -8.98685902e-02,  7.48540163e-02, -3.92968170e-02,\n",
       "        3.74419685e-03,  7.09418673e-03,  4.04822417e-02,  2.59441994e-02,\n",
       "       -5.32419160e-02,  2.79677752e-02,  2.00253795e-03, -3.65577787e-02,\n",
       "        5.25859185e-02, -5.66311106e-02,  4.13577594e-02, -3.64081301e-02,\n",
       "       -2.26797862e-03, -1.98394600e-02,  9.16186627e-03,  2.61383597e-03,\n",
       "       -3.14908102e-02,  4.22116695e-03,  9.49428510e-03,  4.90565412e-02,\n",
       "       -9.44747701e-02, -1.10284187e-01, -5.31650439e-04, -5.58926864e-03,\n",
       "       -4.85593379e-02,  1.07429503e-02,  1.76924299e-02, -7.04239160e-02,\n",
       "       -5.02481349e-02, -3.76272686e-02, -2.70284358e-02,  1.77097768e-02,\n",
       "        4.70237471e-02, -4.80364636e-02,  2.55661737e-02, -3.65580842e-02,\n",
       "       -9.69335437e-03, -1.06417090e-02, -1.74718220e-02,  3.06210332e-02,\n",
       "        2.41393242e-02, -1.80277042e-03, -3.67670394e-02,  8.90635885e-03,\n",
       "        1.00340862e-02,  5.43549797e-03, -4.95111570e-03,  5.45379780e-02,\n",
       "       -4.86641377e-02, -1.20655131e-02, -1.61400735e-02,  2.16786154e-02,\n",
       "        1.76525638e-02, -2.14376077e-02,  4.41681556e-02, -2.86315847e-02,\n",
       "       -3.91601808e-02, -5.42850792e-02,  4.20641573e-03,  3.38598303e-02,\n",
       "       -3.88919674e-02, -5.07148802e-02, -5.61699905e-02,  4.15938795e-02,\n",
       "        2.83727217e-02,  1.78758875e-02,  2.23786719e-02, -5.58455661e-03,\n",
       "        1.04674110e-02,  3.29170711e-02, -1.06831491e-02, -1.11832069e-02,\n",
       "        1.72579903e-02,  2.21323334e-02, -4.53339592e-02, -1.83760952e-02,\n",
       "        7.95663819e-02,  6.35265484e-02,  2.65048742e-02,  1.47861131e-02,\n",
       "       -4.82931314e-03,  3.92680652e-02,  2.02436447e-02, -2.04806533e-02,\n",
       "       -4.16381359e-02,  6.73059300e-02,  5.51895425e-02,  2.20121406e-02,\n",
       "       -3.47828902e-02,  3.11965048e-02, -1.39473937e-02,  3.49663086e-02,\n",
       "        2.59772278e-02,  7.09848180e-02, -1.68541893e-02,  5.28883096e-03,\n",
       "       -6.77186921e-02, -2.17227992e-02,  3.89775410e-02, -7.47904901e-33,\n",
       "       -1.54604189e-04, -2.26459969e-02,  1.82498936e-02, -1.67689542e-03,\n",
       "       -6.75742626e-02, -5.08961640e-02,  2.17160303e-02,  1.38837949e-03,\n",
       "       -6.38499036e-02, -2.29842905e-02, -1.98116452e-02, -2.14790762e-03,\n",
       "        4.50976342e-02,  2.40533240e-03, -1.31610851e-03, -5.52610792e-02,\n",
       "       -2.43692659e-02,  2.39723325e-02, -1.24166850e-02,  1.71507932e-02,\n",
       "        1.98708158e-02, -2.20367662e-03,  1.90503765e-02,  7.41244107e-03,\n",
       "        4.53670695e-02,  5.57493232e-02, -1.33510418e-02, -6.36817887e-02,\n",
       "       -2.88138632e-02, -3.96557078e-02, -3.72414514e-02, -5.31418473e-02,\n",
       "       -5.00226533e-03, -8.98772925e-02,  8.71377345e-03,  9.54434425e-02,\n",
       "       -2.46639047e-02, -2.80192625e-02,  1.78602878e-02, -4.24731113e-02,\n",
       "       -9.96294767e-02, -5.60883060e-02, -3.18760588e-03,  2.13189349e-02,\n",
       "       -4.90571633e-02, -3.64928022e-02, -1.04408991e-02, -1.88814383e-02,\n",
       "        3.33533739e-03,  2.04611197e-02, -8.02504178e-03,  1.37238018e-02,\n",
       "       -2.59453170e-02,  2.40079239e-02, -2.35573971e-05, -3.18525126e-03,\n",
       "        3.02973427e-02,  6.94357157e-02, -2.49648523e-02, -1.36068091e-02,\n",
       "       -4.84540947e-02,  2.55910754e-02, -1.83764845e-02, -5.23623079e-02,\n",
       "        1.68935414e-02,  2.07628626e-02, -6.87254667e-02,  1.61112472e-02,\n",
       "       -5.40929958e-02, -5.37502877e-02,  5.62107749e-03,  5.73000424e-02,\n",
       "        4.00024764e-02,  4.55975048e-02, -5.82199134e-02, -8.98994282e-02,\n",
       "       -5.87458052e-02, -2.44715177e-02,  6.36291653e-02,  8.20168573e-03,\n",
       "        2.85369176e-02, -1.16130598e-02,  1.90653056e-02,  3.87793593e-03,\n",
       "       -3.20883729e-02, -9.62791890e-02, -5.29307127e-02,  6.56656623e-02,\n",
       "       -7.87266493e-02, -1.03079425e-02,  9.96575505e-03,  7.13186190e-02,\n",
       "        9.80250351e-03,  1.11039123e-02, -2.34784801e-02, -1.61248613e-02,\n",
       "        1.97434006e-03, -1.25434846e-02,  4.53556180e-02, -2.78102923e-02,\n",
       "       -2.29425058e-02,  8.97038635e-03, -7.93911889e-02,  2.10809186e-02,\n",
       "        3.50333713e-02, -7.58505752e-03, -3.26730907e-02, -4.49611619e-03,\n",
       "       -6.00226335e-02, -4.13552672e-02, -1.99302728e-03,  3.72227803e-02,\n",
       "        2.97290944e-02,  5.23428321e-02, -3.38205788e-03,  3.38790677e-02,\n",
       "        2.40490194e-02, -8.08148161e-02,  6.88491529e-03,  4.68993746e-02,\n",
       "        5.06628044e-02, -1.53358532e-02, -8.60701129e-02,  2.89828070e-02,\n",
       "        7.25401798e-03,  1.13304211e-02, -3.72980302e-03,  2.10931501e-03,\n",
       "        4.11525322e-03, -1.59670282e-02, -1.06062274e-02, -5.59555553e-02,\n",
       "        2.40448372e-07, -1.17775248e-02,  3.63562396e-03, -4.00482751e-02,\n",
       "        4.02181223e-03,  1.54075241e-02,  1.14841282e-03, -2.92352289e-02,\n",
       "        4.57594432e-02,  2.08570668e-03, -5.03502414e-02, -1.76169965e-02,\n",
       "       -2.89422069e-02,  1.38401445e-02,  6.80460734e-03,  1.92871056e-02,\n",
       "        4.64327261e-03, -1.25882020e-02, -2.74932291e-02, -2.60086115e-02,\n",
       "       -9.15275048e-03, -3.39076156e-03,  9.00521409e-03,  1.89173315e-02,\n",
       "       -1.62002221e-02, -3.66550758e-02,  4.94221970e-03,  3.33123095e-02,\n",
       "       -8.28919113e-02, -5.86460680e-02, -1.97182107e-03,  4.21406627e-02,\n",
       "       -2.96804011e-02,  7.97731243e-03, -2.08841898e-02,  6.19863346e-03,\n",
       "        3.52757727e-03, -3.76500338e-02,  3.24789211e-02,  1.94702819e-02,\n",
       "       -2.59203669e-02, -4.00795080e-02, -2.68407427e-02, -1.45768337e-02,\n",
       "        1.80644598e-02,  3.38093229e-02,  2.06985436e-02, -9.23690852e-03,\n",
       "       -6.82536215e-02, -2.36569755e-02,  8.90590809e-03, -4.09231614e-03,\n",
       "        6.46612346e-02, -3.03826225e-03,  3.92051674e-02,  1.05449166e-02,\n",
       "        6.16878085e-03,  3.05567775e-02, -4.65313904e-03,  1.58388708e-02,\n",
       "       -2.91855428e-02, -1.89445652e-02,  2.46551633e-02, -4.97600809e-02,\n",
       "        2.85535175e-02,  1.04969908e-02,  1.81427170e-02, -2.31511015e-02,\n",
       "        8.57072274e-35,  1.48426183e-03, -4.11253385e-02, -1.05784293e-02,\n",
       "       -6.33410737e-02,  2.87561994e-02, -2.48983912e-02, -3.13327089e-02,\n",
       "        2.01905426e-02, -1.51858656e-02,  1.57087098e-03,  1.88981183e-02],\n",
       "      dtype=float32)"
      ]
     },
     "execution_count": 10,
     "metadata": {},
     "output_type": "execute_result"
    }
   ],
   "source": [
    "query_embedding"
   ]
  },
  {
   "cell_type": "code",
   "execution_count": 11,
   "id": "ce47e3c6",
   "metadata": {},
   "outputs": [],
   "source": [
    "import pandas as pd\n",
    "pd.set_option('display.max_rows', 200)\n",
    "pd.set_option('display.max_colwidth', 1000)"
   ]
  },
  {
   "cell_type": "code",
   "execution_count": 12,
   "id": "1e2d944f",
   "metadata": {},
   "outputs": [
    {
     "name": "stdout",
     "output_type": "stream",
     "text": [
      "Query: politics\n",
      "\n",
      "Top 5 most similar news in corpus:\n",
      "tensor(0.5379) tensor(1697)\n",
      "text     A target for terrorists An election campaign parades the political divide in the community. Yesterday, amid the extraordinary uncertainty about whether Australians had been taken hostage in Iraq, we saw the glue that unites the two sides of politics.\n",
      "label                                                                                                                                                                                                                                                             0\n",
      "Name: 1697, dtype: object (Score: 0.5379)\n",
      "tensor(0.4475) tensor(6803)\n",
      "text     A perfect storm of political peril, unless... The extended train wreck that has been American-dominated Iraq is winding its way toward a decisive intersection: the national elections scheduled for Jan. 30, 2005, where voters will be asked \n",
      "label                                                                                                                                                                                                                                                  0\n",
      "Name: 6803, dtype: object (Score: 0.4475)\n",
      "tensor(0.4277) tensor(2241)\n",
      "text     Bush Mixing Diplomacy and Campaigning (AP) AP - President Bush, straddling the worlds of diplomacy and re-election politics, is getting in another meeting with a foreign leader before hitting the road to Pennsylvania, a state at the top of his campaign wish list.\n",
      "label                                                                                                                                                                                                                                                                          0\n",
      "Name: 2241, dtype: object (Score: 0.4277)\n",
      "tensor(0.4101) tensor(3971)\n",
      "text     Gay Marriage Issue Motivates Conservatives WASHINGTON - Gay marriage is emerging as a big enough issue in several states to influence races both for Congress and the presidency.    Ballot initiatives on banning same-sex marriages are expected to propel social conservatives to the polls in 11 states, including four presidential battlegrounds: Arkansas, Ohio, Michigan and Oregon...\n",
      "label                                                                                                                                                                                                                                                                                                                                                                                                 0\n",
      "Name: 3971, dtype: object (Score: 0.4101)\n",
      "tensor(0.3959) tensor(1106)\n",
      "text     Md. Board Meeting Worries Democrats Republican-dominated election board met behind closed doors in deliberations that Democrats feared were aimed at ousting Elections Administrator Linda H. Lamone.&lt;BR&gt;\\&lt;FONT face=\"verdana,MS Sans Serif,arial,helvetica\" size=\"-2\"\\ color=\"#666666\"&gt;&lt;B&gt;-The Washington Post&lt;/B&gt;&lt;/FONT&gt;\n",
      "label                                                                                                                                                                                                                                                                                                                                                           3\n",
      "Name: 1106, dtype: object (Score: 0.3959)\n"
     ]
    }
   ],
   "source": [
    "# Generate embedding for query.\n",
    "\n",
    "cos_scores = util.cos_sim(query_embedding,embeddings)[0]\n",
    "top_results = torch.topk(cos_scores, k=5)\n",
    "\n",
    "print(\"Query:\", query)\n",
    "print(\"\\nTop 5 most similar news in corpus:\")\n",
    "\n",
    "for score, idx in zip(top_results[0], top_results[1]):\n",
    "    print(score,idx)\n",
    "    print(df.iloc[idx.numpy()], \"(Score: {:.4f})\".format(score))"
   ]
  }
 ],
 "metadata": {
  "kernelspec": {
   "display_name": "Python 3 (ipykernel)",
   "language": "python",
   "name": "python3"
  },
  "language_info": {
   "codemirror_mode": {
    "name": "ipython",
    "version": 3
   },
   "file_extension": ".py",
   "mimetype": "text/x-python",
   "name": "python",
   "nbconvert_exporter": "python",
   "pygments_lexer": "ipython3",
   "version": "3.10.9"
  }
 },
 "nbformat": 4,
 "nbformat_minor": 5
}
